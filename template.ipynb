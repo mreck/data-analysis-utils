{
 "cells": [
  {
   "cell_type": "code",
   "execution_count": 1,
   "metadata": {},
   "outputs": [],
   "source": [
    "%%javascript\n",
    "IPython.OutputArea.prototype._should_scroll = function(lines) { return false; };"
   ]
  },
  {
   "cell_type": "code",
   "execution_count": 4,
   "metadata": {},
   "outputs": [],
   "source": [
    "import numpy as np\n",
    "import pandas as pd\n",
    "\n",
    "from IPython.core.display import display, HTML\n",
    "import matplotlib.pyplot as plt\n",
    "import matplotlib.dates as mdates\n",
    "import seaborn as sns"
   ]
  },
  {
   "cell_type": "code",
   "execution_count": 5,
   "metadata": {},
   "outputs": [
    {
     "data": {
      "image/png": "[encoded data removed]",
      "text/plain": [
       "<Figure size 1440x72 with 1 Axes>"
      ]
     },
     "metadata": {},
     "output_type": "display_data"
    }
   ],
   "source": [
    "d3_category20 = ['#1f77b4','#ff7f0e','#2ca02c','#d62728','#9467bd',\n",
    "                 '#8c564b','#e377c2','#7f7f7f','#bcbd22','#17becf',\n",
    "                 '#aec7e8','#ffbb78','#98df8a','#ff9896','#c5b0d5',\n",
    "                 '#c49c94','#f7b6d2','#c7c7c7','#dbdb8d','#9edae5']\n",
    "\n",
    "colors = {\n",
    "    'b': d3_category20[0],\n",
    "    'o': d3_category20[1],\n",
    "    'g': d3_category20[2],\n",
    "    'r': d3_category20[3],\n",
    "}\n",
    "\n",
    "sns.palplot(sns.color_palette(d3_category20))\n",
    "sns.set_palette(d3_category20)\n",
    "\n",
    "sns_markers = ['8','s','p','P','*','h','H','o','v','^','<','>','X','D','d']"
   ]
  },
  {
   "cell_type": "code",
   "execution_count": 6,
   "metadata": {},
   "outputs": [],
   "source": [
    "def print_html(html_txt, center=True, h=None, raw=False):\n",
    "    if not raw:\n",
    "        if center:\n",
    "            html_txt = '<center>{}</center>'.format(html_txt)\n",
    "        if h:\n",
    "            html_txt = '<h{}>{}</h{}>'.format(h, html_txt, h)\n",
    "    display(HTML(html_txt))"
   ]
  },
  {
   "cell_type": "code",
   "execution_count": 7,
   "metadata": {},
   "outputs": [],
   "source": [
    "def set_figsize(w,h):\n",
    "    plt.rcParams[\"figure.figsize\"] = (w,h)\n",
    "    \n",
    "def reset_figsize():\n",
    "    set_figsize(16,10)\n",
    "    \n",
    "reset_figsize()\n",
    "\n",
    "def plot_with_figsize(w, h, plot_func):\n",
    "    set_figsize(w,h)\n",
    "    plot_func()\n",
    "    reset_figsize()\n",
    "    plt.show()"
   ]
  }
 ],
 "metadata": {
  "kernelspec": {
   "display_name": "Python 3",
   "language": "python",
   "name": "python3"
  },
  "language_info": {
   "codemirror_mode": {
    "name": "ipython",
    "version": 3
   },
   "file_extension": ".py",
   "mimetype": "text/x-python",
   "name": "python",
   "nbconvert_exporter": "python",
   "pygments_lexer": "ipython3",
   "version": "3.7.0"
  }
 },
 "nbformat": 4,
 "nbformat_minor": 2
}
